{
 "cells": [
  {
   "cell_type": "markdown",
   "id": "33565a03-e102-4bc4-8971-1b56ceffd467",
   "metadata": {},
   "source": [
    "# Matrix-Based Recommendation System with Multithreading\n",
    "\n",
    "## Author: Tiago Rafael Conti Fortunato\n",
    "\n",
    "\n",
    "------\n",
    "# Real-World Problem - Recommendation System (User × Product)\n",
    "\n",
    "This project simulates a basic recommendation system using matrix multiplication and multithreading. In addition to the mathematical implementation, it also explores Python's multithreading capabilities to simulate scalable processing (via row-splitting).\n",
    "\n",
    "\n",
    "- Each **user** is represented by a vector of preferences over **product categories**.\n",
    "- Each **product** is represented by a vector indicating its association with those categories.\n",
    "- By multiplying the **user-preference matrix (U)** with the **product-category matrix (P)**, we generate a **score matrix (S)**.\n",
    "- Each element `S[i][j]` represents the predicted interest of user *i* in product *j*.\n",
    "\n",
    "\n",
    "This approach is loosely inspired by collaborative filtering and can be scaled via parallelism.\n",
    "\n",
    "\n",
    "## Matrix Dimensions:\n",
    "- `U`: m × k (m = number of users, k = number of categories)\n",
    "- `P`: k × n (n = number of products)\n",
    "- `S = U × P`: m × n (user-product scores)\n",
    "\n",
    "In this notebook, we:\n",
    "\n",
    "1. Generate dummy data for users and products\n",
    "2. Implement matrix multiplication (sequential version)\n",
    "3. Implement matrix multiplication with multithreading (row-based parallelism)\n",
    "4. Compare execution times and performance\n",
    "5. Display and normalize recommendation scores\n",
    "\n"
   ]
  },
  {
   "cell_type": "markdown",
   "id": "05b18dda-c6b9-4d91-9f27-b3051a58749c",
   "metadata": {},
   "source": [
    "##  How User Preferences Are Scored\n",
    "\n",
    "In this simulation, each **user** is represented by a vector of preferences over different product categories.\n",
    "\n",
    "These preferences are **numeric values from 0 to 5**, and each value indicates how much a user is interested in a particular category:\n",
    "\n",
    "| Score | Meaning                          |\n",
    "|-------|----------------------------------|\n",
    "| 0     | No interest at all               |\n",
    "| 1     | Very low interest                |\n",
    "| 2     | Low/moderate interest            |\n",
    "| 3     | Neutral                          |\n",
    "| 4     | High interest                    |\n",
    "| 5     | Strong interest / passion        |\n",
    "\n",
    "---\n",
    "\n",
    "##  How are these values generated?\n",
    "\n",
    "In a real-world system, preference scores are calculated based on **user behavior**, such as:\n",
    "\n",
    "- How many times the user **clicked on products** of a category\n",
    "- Whether they have **purchased or liked** products in that category\n",
    "- How much **time** they spent browsing those products\n",
    "- Whether they **rated** items highly\n",
    "- Past **interaction frequency**\n",
    "\n",
    "---\n",
    "\n",
    "### Simulated Preference Data (for 5 Users × 3 Categories)\n",
    "\n",
    "We simulate this by manually assigning values that represent different user types:\n",
    "## Categories: [Games 🎮, Books 📚, Clothes 👕]\n"
   ]
  },
  {
   "cell_type": "markdown",
   "id": "3b802d42-3569-4918-9b95-d2fd45e474f0",
   "metadata": {},
   "source": [
    "### user_preferences → (5 users × 3 categories)"
   ]
  },
  {
   "cell_type": "code",
   "execution_count": 13,
   "id": "b533c97a-8c39-46a4-a193-80a30dc4d24b",
   "metadata": {},
   "outputs": [],
   "source": [
    "# Each user is represented by a row, and categories by columns\n",
    "\n",
    "user_preferences = [\n",
    "    [5, 2, 0],  # User 0: Loves games, likes books a little, no interest in clothes\n",
    "    [0, 5, 3],  # User 1: Loves books, some interest in clothes, no interest in games\n",
    "    [2, 0, 5],  # User 2: Fashion-oriented user with little interest in games\n",
    "    [3, 3, 3],  # User 3: Balanced preferences\n",
    "    [4, 0, 2],  # User 4: Likes games and a bit of clothing\n",
    "]\n",
    "\n"
   ]
  },
  {
   "cell_type": "markdown",
   "id": "51d47d5c-974a-49d9-9e4b-72f84aad8e76",
   "metadata": {},
   "source": [
    "### product_features → (3 categories × 4 products)"
   ]
  },
  {
   "cell_type": "code",
   "execution_count": 14,
   "id": "6a3c8b21-e3d5-45dd-9956-646113412742",
   "metadata": {},
   "outputs": [],
   "source": [
    "# Each category is represented by a row (Game, Book, Clothes), and each product by a column\n",
    "\n",
    "# Product 0: Game + Book (Book about games)\n",
    "# Product 1: Book\n",
    "# Product 2: Clothes\n",
    "# Product 3: Book + Clothes (Book about Clothes)\n",
    "\n",
    "product_features = [\n",
    "    [1, 0, 0, 0],  # Game\n",
    "    [1, 1, 0, 1],  # Book\n",
    "    [0, 0, 1, 1],  # Clothes\n",
    "]"
   ]
  },
  {
   "cell_type": "markdown",
   "id": "2c875f7f-ca24-4847-8da3-5d469876e347",
   "metadata": {},
   "source": [
    "# 🔁 SEQUENTIAL MATRIX MULTIPLICATION (USER × PRODUCT)\n"
   ]
  },
  {
   "cell_type": "code",
   "execution_count": 3,
   "id": "bdc87fb2-b8ca-4e1a-9efc-23457d8a39c8",
   "metadata": {},
   "outputs": [],
   "source": [
    "# Define function to multiply matrices\n",
    "def multiply_matrices_sequential(mat1, mat2):\n",
    "    \n",
    "# Count number os rows and collums\n",
    "    rows_1 = len(mat1)        # Number of rows in mat1 (users)\n",
    "    cols_1 = len(mat1[0])     # Number of columns in mat1 (categories)\n",
    "    cols_2 = len(mat2[0])     # Number of columns in mat2 (products)\n",
    "\n",
    "# Result matrix [5x3] x [3x4] = [5x4]  -> (users x products)\n",
    "    result = [[0 for _ in range(cols_2)] for _ in range(rows_1)]\n",
    "    \n",
    "# Multiply matrices\n",
    "# For each user (i) and each product (j), calculate the dot product\n",
    "    for i in range(rows_1):              # Loop through users\n",
    "        for j in range(cols_2):          # Loop through products\n",
    "            for k in range(cols_1):      # Loop through categories (dot product calculation)\n",
    "                result[i][j] += mat1[i][k] * mat2[k][j]  # Dot product element\n",
    "    \n",
    "    return result"
   ]
  },
  {
   "cell_type": "code",
   "execution_count": 4,
   "id": "56936592-5607-4c43-b280-4f3faccd4227",
   "metadata": {},
   "outputs": [
    {
     "name": "stdout",
     "output_type": "stream",
     "text": [
      "User N: Product Recommendation Scores:\n",
      "User 0: [7, 2, 0, 2]\n",
      "User 1: [5, 5, 3, 8]\n",
      "User 2: [2, 0, 5, 5]\n",
      "User 3: [6, 3, 3, 6]\n",
      "User 4: [4, 0, 2, 2]\n"
     ]
    }
   ],
   "source": [
    "# Call the function with user and product data\n",
    "scores = multiply_matrices_sequential(user_preferences, product_features)\n",
    "\n",
    "# Print the recommendation scores\n",
    "print(\"User N: Product Recommendation Scores:\")\n",
    "for i, row in enumerate(scores):\n",
    "    print(f\"User {i}: {row}\")\n"
   ]
  },
  {
   "cell_type": "markdown",
   "id": "14ce6a64-90e7-4292-a9b4-ba53a0b49d2f",
   "metadata": {},
   "source": [
    "## Normalizing Recommendation Scores"
   ]
  },
  {
   "cell_type": "code",
   "execution_count": 5,
   "id": "4d4f2a91-9496-4b7b-bf3e-5ec1c9bb428d",
   "metadata": {},
   "outputs": [],
   "source": [
    "# Normalize the scores by the number of active categories in each product\n",
    "def normalize_scores(raw_scores, product_matrix):\n",
    "    normalized = []\n",
    "    for row in raw_scores:\n",
    "        normalized_row = []\n",
    "        for j, score in enumerate(row):\n",
    "            # Count how many categories are active in product j\n",
    "            active_categories = sum(product_matrix[i][j] for i in range(len(product_matrix)))\n",
    "            # Divide score by number of active categories to normalize\n",
    "            norm_score = score / active_categories if active_categories > 0 else 0\n",
    "            normalized_row.append(round(norm_score, 2))  # Round for readability\n",
    "        normalized.append(normalized_row)\n",
    "    return normalized\n",
    "\n"
   ]
  },
  {
   "cell_type": "code",
   "execution_count": 6,
   "id": "df5834ff-269c-4ab3-8fa6-d33b64eb50cf",
   "metadata": {},
   "outputs": [
    {
     "name": "stdout",
     "output_type": "stream",
     "text": [
      "\n",
      "Normalized Recommendation Scores:\n",
      "User 0: [3.5, 2.0, 0.0, 1.0]\n",
      "User 1: [2.5, 5.0, 3.0, 4.0]\n",
      "User 2: [1.0, 0.0, 5.0, 2.5]\n",
      "User 3: [3.0, 3.0, 3.0, 3.0]\n",
      "User 4: [2.0, 0.0, 2.0, 1.0]\n"
     ]
    }
   ],
   "source": [
    "# Apply normalization\n",
    "normalized_scores = normalize_scores(scores, product_features)\n",
    "\n",
    "# Print the normalized scores\n",
    "print(\"\\nNormalized Recommendation Scores:\")\n",
    "for i, row in enumerate(normalized_scores):\n",
    "    print(f\"User {i}: {row}\")\n",
    "\n"
   ]
  },
  {
   "cell_type": "markdown",
   "id": "5295a143-5e3f-4451-96a9-2d787f8cd602",
   "metadata": {},
   "source": [
    "#  Understanding Recommendation Scores\n",
    "\n",
    "Each user receives two types of **recommendation scores** for every product:\n",
    "\n",
    "---\n",
    "\n",
    "###  1. Raw Score\n",
    "- Calculated by multiplying:\n",
    "  - the **user's preferences** over product categories  \n",
    "  - with the **product's association** to those categories  \n",
    "- Example:\n",
    "\n",
    "`User:    [5, 2, 0]`\n",
    "\n",
    "`Product: [1, 1, 0]`\n",
    "\n",
    "`Score:   5×1 + 2×1 + 0×0 = 7`\n",
    "\n",
    "---\n",
    "\n",
    "###  2. Normalized Score\n",
    "- Raw score divided by the number of active categories in the product.\n",
    "- This helps **balance the recommendation**, making it fairer for products with fewer categories.\n",
    "\n",
    "> For example, a product with only one active category can still achieve a normalized score of **5.0** if the user has full interest in it.\n",
    "\n",
    "---\n",
    "\n",
    "### 🎯 Why Normalize?\n",
    "\n",
    "Without normalization:\n",
    "- A niche product (e.g., only \"Games\") would **score lower** than a multi-category product (e.g., \"Games + Books + Clothes\") — even if it aligns perfectly with the user's main interest.\n",
    "\n",
    "With normalization:\n",
    "- All products are evaluated **relative to their own complexity**, making the system more **accurate and fair**.\n",
    "\n",
    "---\n",
    "\n",
    "### 🏁 Score Range (after normalization)\n",
    "\n",
    "| Normalized Score | Interpretation                  |\n",
    "|------------------|---------------------------------|\n",
    "| 0.0 - 0.9        | No match / Not recommended      |\n",
    "| 1.0 – 2.4        | Weak match                      |\n",
    "| 2.5 – 3.9        | Good match                      |\n",
    "| 4.0 – 5.0        | Strong match/Highly recommended |\n",
    "\n",
    "---\n"
   ]
  },
  {
   "cell_type": "markdown",
   "id": "0329d49e-a88c-4fb3-8f8f-4bf90f5722c2",
   "metadata": {},
   "source": [
    "##  Result Analysis: **User 2 vs Products**\n",
    "\n",
    "#### 🧠 User 2 Preferences: `[2, 0, 5]`  \n",
    "→ Mild interest in **Games** 🎮,  \n",
    "→ No interest in **Books** 📚,  \n",
    "→ Strong interest in **Clothes** 👕  \n",
    "\n",
    "---\n",
    "\n",
    "###  Product 0 → *(Game + Book)*\n",
    "- **Product vector:** `[1, 1, 0]`  \n",
    "- **Raw Score:** `(2×1) + (0×1) + (5×0)` = `2 + 0 + 0 = 2`  \n",
    "- **Active categories:** 2  \n",
    "- **Normalized Score:** `2 / 2 = 1.0`  \n",
    "- 🟡 **Interpretation:** *Weak match* → Only mildly interested in one category (Games), none in Books.\n",
    "\n",
    "---\n",
    "\n",
    "###  Product 1 → *(Book only)*\n",
    "- **Product vector:** `[0, 1, 0]`  \n",
    "- **Raw Score:** `(2×0) + (0×1) + (5×0)` = `0 + 0 + 0 = 0`  \n",
    "- **Active categories:** 1  \n",
    "- **Normalized Score:** `0 / 1 = 0.0`  \n",
    "- 🟥 **Interpretation:** *No match* → No interest in Books at all.\n",
    "\n",
    "---\n",
    "\n",
    "###  Product 2 → *(Clothes only)*\n",
    "- **Product vector:** `[0, 0, 1]`  \n",
    "- **Raw Score:** `(2×0) + (0×0) + (5×1)` = `0 + 0 + 5 = 5`  \n",
    "- **Active categories:** 1  \n",
    "- **Normalized Score:** `5 / 1 = 5.0`  \n",
    "- 🟢 **Interpretation:** *Strong match* → High interest in the only active category (Clothes).\n",
    "\n",
    "---\n",
    "\n",
    "###  Product 3 → *(Book + Clothes)*\n",
    "- **Product vector:** `[0, 1, 1]`  \n",
    "- **Raw Score:** `(2×0) + (0×1) + (5×1)` = `0 + 0 + 5 = 5`  \n",
    "- **Active categories:** 2  \n",
    "- **Normalized Score:** `5 / 2 = 2.5`  \n",
    "- 🟠 **Interpretation:** *Good match* → Strong interest in Clothes, none in Books.\n",
    "\n",
    "---\n",
    "\n",
    "### 📊 Summary:\n",
    "\n",
    "| Product | Raw Score | Normalized | Match Quality         |\n",
    "|---------|------------|------------|------------------------|\n",
    "| 0       | 2          | 1.0        | Weak match             |\n",
    "| 1       | 0          | 0.0        | No match               |\n",
    "| 2       | 5          | 5.0        | Strong match           |\n",
    "| 3       | 5          | 2.5        | Good match             |\n"
   ]
  },
  {
   "cell_type": "markdown",
   "id": "e20b91f7-3543-471d-8102-32ed6fdec9b3",
   "metadata": {},
   "source": [
    "# Matrix Multiplication using Multithreading\n",
    "\n",
    "In this implementation, we parallelize the matrix multiplication by assigning one thread per row. This allows for simultaneous computation of each user's recommendation scores.\n"
   ]
  },
  {
   "cell_type": "code",
   "execution_count": 16,
   "id": "cff26b5e-0dc0-4e98-8f9e-f9079a764244",
   "metadata": {},
   "outputs": [],
   "source": [
    "import threading\n",
    "\n",
    "# Function to multiply matrices using multithreading (row-based split)\n",
    "def multiply_matrices_threaded(mat1, mat2):\n",
    "    rows_1 = len(mat1)           # Number of rows in matrix 1 (users)\n",
    "    cols_1 = len(mat1[0])        # Number of columns in matrix 1 (categories)\n",
    "    cols_2 = len(mat2[0])        # Number of columns in matrix 2 (products)\n",
    "\n",
    "    # Initialize result matrix with zeros [users x products]\n",
    "    result = [[0 for _ in range(cols_2)] for _ in range(rows_1)]\n",
    "\n",
    "# Thread worker function → computes recommendation scores for one user\n",
    "    def compute_row(i):\n",
    "        for j in range(cols_2):                  # Loop through products\n",
    "            for k in range(cols_1):              # Loop through categories\n",
    "                result[i][j] += mat1[i][k] * mat2[k][j]\n",
    "\n",
    "    # Create and start one thread per row\n",
    "    threads = []\n",
    "    for i in range(rows_1):\n",
    "        thread = threading.Thread(target=compute_row, args=(i,))\n",
    "        threads.append(thread)\n",
    "        thread.start()\n",
    "\n",
    "    # Wait for all threads to complete\n",
    "    for thread in threads:\n",
    "        thread.join()\n",
    "\n",
    "        return result  # Final score matrix (users × products)\n",
    "\n"
   ]
  },
  {
   "cell_type": "markdown",
   "id": "0c6976b3-9b89-4361-b8c6-d9ec5d39c99c",
   "metadata": {},
   "source": [
    "### ⏱ Measuring Execution Time (Threaded)\n",
    "To evaluate the performance of the multithreaded implementation, we measure how long it takes to compute the recommendation scores using Python’s time module.\n",
    "\n",
    "This helps us compare the efficiency of the threaded version against the sequential one."
   ]
  },
  {
   "cell_type": "code",
   "execution_count": 8,
   "id": "ade0b2fe-8315-467a-9591-0e68175d5d86",
   "metadata": {},
   "outputs": [
    {
     "name": "stdout",
     "output_type": "stream",
     "text": [
      "Threaded version scores:\n",
      "User 0: [7, 2, 0, 2]\n",
      "User 1: [5, 5, 3, 8]\n",
      "User 2: [2, 0, 5, 5]\n",
      "User 3: [6, 3, 3, 6]\n",
      "User 4: [4, 0, 2, 2]\n",
      "\n",
      "Execution Time (Threaded): 0.00127 seconds\n"
     ]
    }
   ],
   "source": [
    "import time\n",
    "\n",
    "# Measure time for threaded version\n",
    "start = time.time()\n",
    "scores_threaded = multiply_matrices_threaded(user_preferences, product_features)\n",
    "end = time.time()\n",
    "\n",
    "print(\"Threaded version scores:\")\n",
    "for i, row in enumerate(scores_threaded):\n",
    "    print(f\"User {i}: {row}\")\n",
    "\n",
    "print(f\"\\nExecution Time (Threaded): {round(end - start, 5)} seconds\")\n"
   ]
  },
  {
   "cell_type": "code",
   "execution_count": 9,
   "id": "10ab7590-acee-49d4-9433-62c5a0387d9a",
   "metadata": {},
   "outputs": [
    {
     "name": "stdout",
     "output_type": "stream",
     "text": [
      "True\n"
     ]
    }
   ],
   "source": [
    "print(scores == scores_threaded)  # Should return True\n"
   ]
  },
  {
   "cell_type": "markdown",
   "id": "ce7093a0-d864-40a9-a37d-47dbbb316757",
   "metadata": {},
   "source": [
    "### 🧮 Measuring Execution Time (Sequential)\n",
    "To evaluate the baseline performance, we also measure the time it takes to compute the recommendation scores sequentially, without using threads.\n",
    "\n",
    "This helps us compare the efficiency and scalability of the threaded version more clearly."
   ]
  },
  {
   "cell_type": "code",
   "execution_count": 10,
   "id": "e93cc8f1-5ab9-4a50-9742-f1d1b92eac3e",
   "metadata": {},
   "outputs": [
    {
     "name": "stdout",
     "output_type": "stream",
     "text": [
      "Sequential version scores:\n",
      "User 0: [7, 2, 0, 2]\n",
      "User 1: [5, 5, 3, 8]\n",
      "User 2: [2, 0, 5, 5]\n",
      "User 3: [6, 3, 3, 6]\n",
      "User 4: [4, 0, 2, 2]\n",
      "\n",
      "Execution Time (Sequential): 3e-05 seconds\n"
     ]
    }
   ],
   "source": [
    "import time\n",
    "\n",
    "# Measure time for sequential version\n",
    "start = time.time()\n",
    "scores_seq = multiply_matrices_sequential(user_preferences, product_features)\n",
    "end = time.time()\n",
    "\n",
    "print(\"Sequential version scores:\")\n",
    "for i, row in enumerate(scores_seq):\n",
    "    print(f\"User {i}: {row}\")\n",
    "\n",
    "print(f\"\\nExecution Time (Sequential): {round(end - start, 5)} seconds\")\n"
   ]
  },
  {
   "cell_type": "code",
   "execution_count": 11,
   "id": "fbb4ea8d-02ad-4a64-a5ce-96c64c0f653b",
   "metadata": {},
   "outputs": [
    {
     "name": "stdout",
     "output_type": "stream",
     "text": [
      "True\n"
     ]
    }
   ],
   "source": [
    "print(scores_seq == scores_threaded)  # True if both methods give same result\n"
   ]
  },
  {
   "cell_type": "markdown",
   "id": "31459f29-27a5-4ea3-94de-718e506f52eb",
   "metadata": {},
   "source": [
    "## 📊 Comparing Execution Times (Bar Chart)\n",
    "To visually compare the performance, we plot a bar chart showing the execution times of both implementations:\n",
    "\n",
    "Sequential (no threads)\n",
    "Multithreaded (one thread per user)\n",
    "This helps illustrate the potential performance benefits of using multithreading in matrix-based operations."
   ]
  },
  {
   "cell_type": "code",
   "execution_count": 12,
   "id": "9d92ea76-534c-47df-868f-849097271edc",
   "metadata": {},
   "outputs": [
    {
     "data": {
      "image/png": "[encoded data removed]",
      "text/plain": [
       "<Figure size 600x400 with 1 Axes>"
      ]
     },
     "metadata": {},
     "output_type": "display_data"
    }
   ],
   "source": [
    "import matplotlib.pyplot as plt\n",
    "\n",
    "# Tempo medido manualmente (substitua se os tempos mudarem)\n",
    "execution_times = {\n",
    "    \"Sequential\": 0.00013,\n",
    "    \"Multithreaded\": 0.00236\n",
    "}\n",
    "\n",
    "# Gráfico\n",
    "plt.figure(figsize=(6, 4))\n",
    "plt.bar(execution_times.keys(), execution_times.values(), color=[\"#4CAF50\", \"#2196F3\"])\n",
    "plt.ylabel(\"Execution Time (seconds)\")\n",
    "plt.title(\"Execution Time Comparison: Sequential vs Multithreaded\")\n",
    "plt.grid(axis='y', linestyle='--', alpha=0.7)\n",
    "plt.tight_layout()\n",
    "plt.show()\n"
   ]
  },
  {
   "cell_type": "markdown",
   "id": "1c20b363-ce53-49ac-92c3-6748a53fffdb",
   "metadata": {},
   "source": [
    "#  Performance Comparison: Sequential vs. Threaded\n",
    "\n",
    "| Version     | Execution Time (s) | Output Match |\n",
    "|-------------|--------------------|---------------|\n",
    "| Sequential  | 0.00013             | ✅ Yes         |\n",
    "| Threaded    | 0.00236             | ✅ Yes         |\n",
    "\n",
    "##  Threading Observations\n",
    "\n",
    "- Despite using multithreading, the **threaded version was slower** in this case.\n",
    "- This happens because:\n",
    "  - **Thread creation** and **context switching** have overhead.\n",
    "  - For **small datasets**, these overheads outweigh the parallel gain.\n",
    "- In large-scale scenarios (e.g., 1000+ users/products), threading would show a **significant advantage**.\n",
    "\n",
    "#  Conclusion\n",
    "\n",
    "Threading provides **scalability**, not necessarily speed for small inputs.  \n",
    "For matrix-heavy applications at scale, the threaded approach is more robust.\n"
   ]
  },
  {
   "cell_type": "markdown",
   "id": "b0d03203-5720-4204-ac12-846ecd392e89",
   "metadata": {},
   "source": [
    "---\n",
    "\n",
    "###  Final Note on Python Threading\n",
    "\n",
    "Although this project uses the `threading` module to parallelize matrix multiplication, it's important to highlight a key limitation:\n",
    "\n",
    "> **Python's Global Interpreter Lock (GIL)** prevents true parallelism for CPU-bound operations.\n",
    "\n",
    "This means that even though multiple threads are created, **they do not run in parallel on multiple CPU cores** when performing heavy computations like matrix multiplication.\n",
    "\n",
    "####  Why threading can be slower:\n",
    "- **Thread creation overhead:** Spawning and managing threads takes time.\n",
    "- **Context switching:** The system must switch between threads, adding latency.\n",
    "- **No CPU-level parallelism:** In standard Python (`CPython`), only one thread executes Python bytecode at a time due to the GIL.\n",
    "\n",
    "---\n",
    "\n",
    "### For real performance gains on CPU-bound tasks:\n",
    "Consider using:\n",
    "\n",
    "- `multiprocessing` (parallel processes with true CPU core usage)\n",
    "- `numpy` (optimized C-based array operations)\n",
    "- `numba` (JIT compilation)\n",
    "- `cython` or `C++` bindings\n",
    "- Other languages (e.g., Rust, Go, Julia)\n",
    "\n",
    "---\n",
    "\n",
    "This project serves as an **introductory exercise** to understand the *concept* of parallelism using threads, and why **threading isn't always faster** — especially in Python.\n"
   ]
  },
  {
   "cell_type": "code",
   "execution_count": null,
   "id": "1f1be6bb-3d95-4d51-b38d-1378c649b00f",
   "metadata": {},
   "outputs": [],
   "source": []
  }
 ],
 "metadata": {
  "kernelspec": {
   "display_name": "Python 3 (ipykernel)",
   "language": "python",
   "name": "python3"
  },
  "language_info": {
   "codemirror_mode": {
    "name": "ipython",
    "version": 3
   },
   "file_extension": ".py",
   "mimetype": "text/x-python",
   "name": "python",
   "nbconvert_exporter": "python",
   "pygments_lexer": "ipython3",
   "version": "3.13.3"
  }
 },
 "nbformat": 4,
 "nbformat_minor": 5
}
